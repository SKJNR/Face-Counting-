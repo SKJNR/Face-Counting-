{
  "nbformat": 4,
  "nbformat_minor": 0,
  "metadata": {
    "kernelspec": {
      "display_name": "Python 3",
      "language": "python",
      "name": "python3"
    },
    "language_info": {
      "codemirror_mode": {
        "name": "ipython",
        "version": 3
      },
      "file_extension": ".py",
      "mimetype": "text/x-python",
      "name": "python",
      "nbconvert_exporter": "python",
      "pygments_lexer": "ipython3",
      "version": "3.6.9"
    },
    "colab": {
      "name": "EDA.ipynb",
      "provenance": [],
      "include_colab_link": true
    }
  },
  "cells": [
    {
      "cell_type": "markdown",
      "metadata": {
        "id": "view-in-github",
        "colab_type": "text"
      },
      "source": [
        "<a href=\"https://colab.research.google.com/github/SKJNR/Face-Counting-/blob/master/EDA.ipynb\" target=\"_parent\"><img src=\"https://colab.research.google.com/assets/colab-badge.svg\" alt=\"Open In Colab\"/></a>"
      ]
    },
    {
      "cell_type": "markdown",
      "metadata": {
        "id": "EDdRDncfrDp4"
      },
      "source": [
        "# Data Analysis"
      ]
    },
    {
      "cell_type": "code",
      "metadata": {
        "id": "f8jsMZTMrDp-"
      },
      "source": [
        "import os\n",
        "import random\n",
        "from pathlib import Path\n",
        "\n",
        "import matplotlib.pyplot as plt\n",
        "import numpy as np\n",
        "import pandas as pd"
      ],
      "execution_count": 1,
      "outputs": []
    },
    {
      "cell_type": "code",
      "metadata": {
        "id": "9tEa1KPOrDqA"
      },
      "source": [
        "data_dir = Path('.')"
      ],
      "execution_count": 2,
      "outputs": []
    },
    {
      "cell_type": "markdown",
      "metadata": {
        "id": "f1SmpQVqrDqA"
      },
      "source": [
        "## Coaching Program"
      ]
    },
    {
      "cell_type": "markdown",
      "metadata": {
        "id": "6GwASbG2rDqB"
      },
      "source": [
        "### Summary\n",
        "* This mainly comprised of preparing the dataset and a few visualizations.\n",
        "* The visualization can easily be edited to suite queries.\n",
        "* The candidates of interest (Those who filled the survey in all 4 semesters) are classified as main_df.\n",
        "* Natural Language Processing or information extraction (e.g Named-entity recognition) would be applied on the following columns:\n",
        "    * What was it about this speaker that made him/her/them your favorite\n",
        "    * Do you have any artists that you would like to recommend as possible speakers for future TMC events at Longy?\n",
        "    * In one or two sentences, would you be willing to summarize the impact that The Career Coaching Program has had on your musical training and overall development?\n",
        "    * Do you have any recommendations for artists (or types of artists) that we should invite as TMC Speakers in the future?\n",
        "* **Are ALL the options 'Strongly Disagree', 'Disagree', 'Maybe'/'Neutral', 'Agree', 'Strongly Agree' included in all the survey??!!!**\n",
        "* The agreement columns might be reduced to 3 depending on further analysis.\n",
        "* With more dataset, I could do some wrangling, and make credible assumptions."
      ]
    },
    {
      "cell_type": "markdown",
      "metadata": {
        "id": "bIgn0b6OrDqB"
      },
      "source": [
        "### Abbreviations\n",
        "* F19: Fall 2019\n",
        "* S20: Spring 2020\n",
        "* F20: Fall 2020\n",
        "* S21: Spring 2021"
      ]
    },
    {
      "cell_type": "markdown",
      "metadata": {
        "id": "CXr23tZjrDqC"
      },
      "source": [
        "### Read Datasets"
      ]
    },
    {
      "cell_type": "code",
      "metadata": {
        "id": "LQZeHEILrDqC"
      },
      "source": [
        "semester1 = pd.read_excel(data_dir/'Coaching Program Impact Assessment_ Fall Semester 2019(1-85).xlsx')\n",
        "semester2 = pd.read_excel(data_dir/'Coaching Program Impact Assessment_ Spring 2020(1-35) (3).xlsx')\n",
        "semester3 = pd.read_excel(data_dir/'Coaching Program Impact Assessment_ Fall Semester 2020(1-73) (1).xlsx')\n",
        "semester4 = pd.read_excel(data_dir/'Coaching Program Impact Assessment_ Spring 2021(1-48).xlsx')"
      ],
      "execution_count": 3,
      "outputs": []
    },
    {
      "cell_type": "code",
      "metadata": {
        "id": "cQl1sVS3rDqD"
      },
      "source": [
        "semester1['Semester'] = 'F19'\n",
        "semester2['Semester'] = 'S20'\n",
        "semester3['Semester'] = 'F20'\n",
        "semester4['Semester'] = 'S21'"
      ],
      "execution_count": 4,
      "outputs": []
    },
    {
      "cell_type": "code",
      "metadata": {
        "id": "PPjiDz8WrDqE"
      },
      "source": [
        "semesters = [semester1, semester2, semester3, semester4]"
      ],
      "execution_count": 5,
      "outputs": []
    },
    {
      "cell_type": "code",
      "metadata": {
        "colab": {
          "base_uri": "https://localhost:8080/",
          "height": 0
        },
        "id": "lYY3ls3krDqE",
        "outputId": "e4fb7079-bade-469e-e584-0557d7421297"
      },
      "source": [
        "for x in semesters:\n",
        "    print(x.Semester[0], x.shape)"
      ],
      "execution_count": 6,
      "outputs": [
        {
          "output_type": "stream",
          "text": [
            "F19 (85, 28)\n",
            "S20 (35, 29)\n",
            "F20 (73, 28)\n",
            "S21 (48, 34)\n"
          ],
          "name": "stdout"
        }
      ]
    },
    {
      "cell_type": "markdown",
      "metadata": {
        "id": "ACOvAoStrDqG"
      },
      "source": [
        "### Combine and clean datasets"
      ]
    },
    {
      "cell_type": "code",
      "metadata": {
        "colab": {
          "base_uri": "https://localhost:8080/",
          "height": 0
        },
        "id": "1kh1u_k4rDqG",
        "outputId": "c0d57f1e-4a82-4051-830c-3e9e96c3a13d"
      },
      "source": [
        "df = pd.concat([semester1, semester2, semester3, semester4], ignore_index=True)\n",
        "df.shape"
      ],
      "execution_count": 7,
      "outputs": [
        {
          "output_type": "execute_result",
          "data": {
            "text/plain": [
              "(241, 44)"
            ]
          },
          "metadata": {
            "tags": []
          },
          "execution_count": 7
        }
      ]
    },
    {
      "cell_type": "code",
      "metadata": {
        "id": "NceWCnTqrDqH"
      },
      "source": [
        "# Classifying columns for preparation, delete and analysis\n",
        "cols_to_drop = ['ID']\n",
        "date_cols = ['Start time', 'Completion time'] #.dt.\n",
        "student_cols = ['Name', 'Email']\n",
        "custom_cols = ['Semester']\n",
        "nlp_cols = [\n",
        "    'What was it about this speaker that made him/her/them your favorite', #all\n",
        "    'In one or two sentences, would you be willing to summarize the impact that The Career Coaching Program has had on your musical training and overall development?', #f20,s21\n",
        "    #'Do you have any artists that you would like to recommend as possible speakers for future TMC events at Longy?', #f20, s21\n",
        "    #'Do you have any recommendations for artists (or types of artists) that we should invite as TMC Speakers in the future?', #s20\n",
        "    'Recommeded Speakers'\n",
        "]\n",
        "cat_cols = {\n",
        "    'agree': [\n",
        "        'Through coaching, I discovered connections between my values and my music.', # all\n",
        "        'Coaching helped me identify my goals.', # all\n",
        "        'Coaching helped me determine next steps toward reaching my goals.', # except s20\n",
        "        #'I created next steps towards reaching my goals.', #s20\n",
        "        'Coaching sessions helped me decide what classes to take at Longy.', #all\n",
        "        'Clarity for decision making', #all\n",
        "        'Accountability for my goals', #all\n",
        "        'Increased self-motivation', #all\n",
        "        'Awareness of my values', #all\n",
        "        'Support for personal growth', #all\n",
        "        'I would recommend individual coaching to current or prospective students.', #all\n",
        "        'The Multifaceted Career (TMC) Speaker Series helped me think about my own life and career options in a broader way.', #all\n",
        "        'I would recommend The Multifaceted Career (TMC) Series to current or perspective students.', #all\n",
        "        'Coaching was as effective on zoom as it was in person.', #s20\n",
        "        'I will use the individual career coaching services at Longy after I graduate.', #s20\n",
        "        'I am aware of the coaching program requirements for graduation.', #s20\n",
        "        'The Coaching Foundations Course (group coaching) laid an important foundation for the discussions in my individual coaching sessions.', #s20\n",
        "        'The Artist Statement workshop helped me begin to align my career aspirations with my values.', #s21\n",
        "        'The Coaching Foundations Course (5 sessions at the beginning of grad school) provided a framework for understanding myself and how coaching worked at Longy.', #s21\n",
        "        'The Multifaceted Career Speaker Series helped me thinking more expansively about my own career possibilities.', #s21\n",
        "        'Individual coaching provided a space to reflect on who I was becoming and what I wanted to do after Longy.', #s21\n",
        "        'I plan to use the career coaching services after I graduate.', #s21\n",
        "        \n",
        "    ],\n",
        "    'others': [\n",
        "        'Language',\n",
        "        'When did you begin pursuing your degree at Longy?', # Semester (f20,s21)\n",
        "        'Which department are you in?', # Department (f20,s21)\n",
        "        'What degree are you currently pursuing?', # Degree (f20,s21)\n",
        "        'I have received career coaching sessions at Longy', #Yes/No (f20,s21)\n",
        "        'My favorite TMC Speaker was...', # (f19,f20)\n",
        "        #'My favorite TMC Speaker this semester was...', #s20\n",
        "        #'My favorite TMC Speaker from the Spring 2021 Series was...', #s21\n",
        "        'Have you reached out to any of these speakers after their presentation?', #yes/no (all)\n",
        "        'I received coaching online on zoom during the COVID pandemic.', #yes/no (s20)\n",
        "        'Four individual coaching sessions per academic year seemed like', #s20\n",
        "        'I have completed a graduate degree at Longy and will be graduating on May 15, 2021.', #yes/no (s21) \n",
        "    ]\n",
        "}"
      ],
      "execution_count": 8,
      "outputs": []
    },
    {
      "cell_type": "markdown",
      "metadata": {
        "id": "3Zass1ftrDqJ"
      },
      "source": [
        "Some columns mean the same thing, the words were changed in another semester. So we will merge does columns together"
      ]
    },
    {
      "cell_type": "code",
      "metadata": {
        "id": "ogynW6psrDqK"
      },
      "source": [
        "# zoom columns can be used for analysis of online education or covid impact\n",
        "zoom_cols = [x for x in df.columns if 'zoom' in x]\n",
        "\n",
        "cols_to_rename = {\n",
        "    'My favorite TMC Speaker this semester was...': 'My favorite TMC Speaker was...',\n",
        "    'My favorite TMC Speaker from the Spring 2021 Series was...': 'My favorite TMC Speaker was...',\n",
        "    'Do you have any recommendations for artists (or types of artists) that we should invite as TMC Speakers in the future?': 'Recommended Speakers',\n",
        "    'Do you have any artists that you would like to recommend as possible speakers for future TMC events at Longy?': 'Recommended Speakers',\n",
        "    'I created next steps towards reaching my goals.': 'Coaching helped me determine next steps toward reaching my goals.',\n",
        "}\n",
        "\n",
        "cols_to_drop.extend(list(cols_to_rename.keys()))\n"
      ],
      "execution_count": 9,
      "outputs": []
    },
    {
      "cell_type": "code",
      "metadata": {
        "id": "p-AdkyYOrDqK"
      },
      "source": [
        "def rename_columns(df, columns):\n",
        "    \"\"\"Move the values in columns key to columns value\"\"\"\n",
        "    for old,new in columns.items():\n",
        "        if new not in df.columns:\n",
        "            df[new] = np.nan\n",
        "        df[new].where(df[new].notna(), df[old], inplace=True)"
      ],
      "execution_count": 10,
      "outputs": []
    },
    {
      "cell_type": "code",
      "metadata": {
        "colab": {
          "base_uri": "https://localhost:8080/",
          "height": 893
        },
        "id": "_hI27MkzrDqL",
        "outputId": "8c3daab6-f96e-47f5-96bf-9d88b6f124ae"
      },
      "source": [
        "# Rename columns\n",
        "rename_columns(df, cols_to_rename)\n",
        "df.drop(cols_to_drop, axis=1, inplace=True)\n",
        "print('DataFrame shape', df.shape)\n",
        "df.sample(5)"
      ],
      "execution_count": 11,
      "outputs": [
        {
          "output_type": "stream",
          "text": [
            "DataFrame shape (241, 39)\n"
          ],
          "name": "stdout"
        },
        {
          "output_type": "execute_result",
          "data": {
            "text/html": [
              "<div>\n",
              "<style scoped>\n",
              "    .dataframe tbody tr th:only-of-type {\n",
              "        vertical-align: middle;\n",
              "    }\n",
              "\n",
              "    .dataframe tbody tr th {\n",
              "        vertical-align: top;\n",
              "    }\n",
              "\n",
              "    .dataframe thead th {\n",
              "        text-align: right;\n",
              "    }\n",
              "</style>\n",
              "<table border=\"1\" class=\"dataframe\">\n",
              "  <thead>\n",
              "    <tr style=\"text-align: right;\">\n",
              "      <th></th>\n",
              "      <th>Start time</th>\n",
              "      <th>Completion time</th>\n",
              "      <th>Email</th>\n",
              "      <th>Name</th>\n",
              "      <th>Language</th>\n",
              "      <th>When did you begin pursuing your degree at Longy?</th>\n",
              "      <th>Which department are you in?</th>\n",
              "      <th>What degree are you currently pursuing?</th>\n",
              "      <th>I have received career coaching sessions at Longy</th>\n",
              "      <th>Through coaching, I discovered connections between my values and my music.</th>\n",
              "      <th>Coaching helped me identify my goals.</th>\n",
              "      <th>Coaching helped me determine next steps toward reaching my goals.</th>\n",
              "      <th>Coaching sessions helped me decide what classes to take at Longy.</th>\n",
              "      <th>Clarity for decision making</th>\n",
              "      <th>Accountability for my goals</th>\n",
              "      <th>Increased self-motivation</th>\n",
              "      <th>Awareness of my values</th>\n",
              "      <th>Support for personal growth</th>\n",
              "      <th>I would recommend individual coaching to current or prospective students.</th>\n",
              "      <th>The Multifaceted Career (TMC) Speaker Series helped me think about my own life and career options in a broader way.</th>\n",
              "      <th>My favorite TMC Speaker was...</th>\n",
              "      <th>What was it about this speaker that made him/her/them your favorite</th>\n",
              "      <th>Have you reached out to any of these speakers after their presentation?</th>\n",
              "      <th>I would recommend The Multifaceted Career (TMC) Series to current or perspective students.</th>\n",
              "      <th>In one or two sentences, would you be willing to summarize the impact that The Career Coaching Program has had on your musical training and overall development?</th>\n",
              "      <th>Semester</th>\n",
              "      <th>I received coaching online on zoom during the COVID pandemic.</th>\n",
              "      <th>Coaching was as effective on zoom as it was in person.</th>\n",
              "      <th>I will use the individual career coaching services at Longy after I graduate.</th>\n",
              "      <th>I am aware of the coaching program requirements for graduation.</th>\n",
              "      <th>Four individual coaching sessions per academic year seemed like</th>\n",
              "      <th>The Coaching Foundations Course (group coaching) laid an important foundation for the discussions in my individual coaching sessions.</th>\n",
              "      <th>I have completed a graduate degree at Longy and will be graduating on May 15, 2021.</th>\n",
              "      <th>The Artist Statement workshop helped me begin to align my career aspirations with my values.</th>\n",
              "      <th>The Coaching Foundations Course (5 sessions at the beginning of grad school) provided a framework for understanding myself and how coaching worked at Longy.</th>\n",
              "      <th>The Multifaceted Career Speaker Series helped me thinking more expansively about my own career possibilities.</th>\n",
              "      <th>Individual coaching provided a space to reflect on who I was becoming and what I wanted to do after Longy.</th>\n",
              "      <th>I plan to use the career coaching services after I graduate.</th>\n",
              "      <th>Recommended Speakers</th>\n",
              "    </tr>\n",
              "  </thead>\n",
              "  <tbody>\n",
              "    <tr>\n",
              "      <th>21</th>\n",
              "      <td>2019-12-05 16:06:20</td>\n",
              "      <td>2019-12-05 16:07:30</td>\n",
              "      <td>Chao.Ma@longy.edu</td>\n",
              "      <td>Chao Ma</td>\n",
              "      <td>English (United States)‎</td>\n",
              "      <td>NaN</td>\n",
              "      <td>NaN</td>\n",
              "      <td>NaN</td>\n",
              "      <td>NaN</td>\n",
              "      <td>Strongly Agree</td>\n",
              "      <td>Strongly Agree</td>\n",
              "      <td>Strongly Agree</td>\n",
              "      <td>Strongly Agree</td>\n",
              "      <td>Strongly Agree</td>\n",
              "      <td>Strongly Agree</td>\n",
              "      <td>Strongly Agree</td>\n",
              "      <td>Strongly Agree</td>\n",
              "      <td>Strongly Agree</td>\n",
              "      <td>Strongly Agree</td>\n",
              "      <td>Strongly Agree</td>\n",
              "      <td>Dana Varga--Many paths to a career in singing</td>\n",
              "      <td>Artists life from Dana</td>\n",
              "      <td>Yes</td>\n",
              "      <td>Strongly Agree</td>\n",
              "      <td>NaN</td>\n",
              "      <td>F19</td>\n",
              "      <td>NaN</td>\n",
              "      <td>NaN</td>\n",
              "      <td>NaN</td>\n",
              "      <td>NaN</td>\n",
              "      <td>NaN</td>\n",
              "      <td>NaN</td>\n",
              "      <td>NaN</td>\n",
              "      <td>NaN</td>\n",
              "      <td>NaN</td>\n",
              "      <td>NaN</td>\n",
              "      <td>NaN</td>\n",
              "      <td>NaN</td>\n",
              "      <td>NaN</td>\n",
              "    </tr>\n",
              "    <tr>\n",
              "      <th>64</th>\n",
              "      <td>2019-12-13 13:01:20</td>\n",
              "      <td>2019-12-13 13:02:55</td>\n",
              "      <td>Yingyu.Ren@longy.edu</td>\n",
              "      <td>Ren Yingyu</td>\n",
              "      <td>English (United States)‎</td>\n",
              "      <td>NaN</td>\n",
              "      <td>NaN</td>\n",
              "      <td>NaN</td>\n",
              "      <td>NaN</td>\n",
              "      <td>Agree</td>\n",
              "      <td>Agree</td>\n",
              "      <td>Agree</td>\n",
              "      <td>Agree</td>\n",
              "      <td>Agree</td>\n",
              "      <td>Agree</td>\n",
              "      <td>Agree</td>\n",
              "      <td>Agree</td>\n",
              "      <td>Agree</td>\n",
              "      <td>Agree</td>\n",
              "      <td>Agree</td>\n",
              "      <td>loadbang--New Music Ensemble</td>\n",
              "      <td>NaN</td>\n",
              "      <td>Yes</td>\n",
              "      <td>Agree</td>\n",
              "      <td>NaN</td>\n",
              "      <td>F19</td>\n",
              "      <td>NaN</td>\n",
              "      <td>NaN</td>\n",
              "      <td>NaN</td>\n",
              "      <td>NaN</td>\n",
              "      <td>NaN</td>\n",
              "      <td>NaN</td>\n",
              "      <td>NaN</td>\n",
              "      <td>NaN</td>\n",
              "      <td>NaN</td>\n",
              "      <td>NaN</td>\n",
              "      <td>NaN</td>\n",
              "      <td>NaN</td>\n",
              "      <td>NaN</td>\n",
              "    </tr>\n",
              "    <tr>\n",
              "      <th>187</th>\n",
              "      <td>2020-12-14 11:33:03</td>\n",
              "      <td>2020-12-14 11:35:50</td>\n",
              "      <td>Diandra.Joseph@longy.edu</td>\n",
              "      <td>Tamika-Diandra Joseph</td>\n",
              "      <td>English (United States)‎</td>\n",
              "      <td>Fall Semester 2020</td>\n",
              "      <td>Vocal</td>\n",
              "      <td>MM</td>\n",
              "      <td>Yes</td>\n",
              "      <td>Neutral</td>\n",
              "      <td>Agree</td>\n",
              "      <td>Neutral</td>\n",
              "      <td>Neutral</td>\n",
              "      <td>Neutral</td>\n",
              "      <td>Neutral</td>\n",
              "      <td>Disagree</td>\n",
              "      <td>Agree</td>\n",
              "      <td>Neutral</td>\n",
              "      <td>Agree</td>\n",
              "      <td>Agree</td>\n",
              "      <td>Michelle Trainor--From to Longy to Lyric Opera</td>\n",
              "      <td>Her main job in the business field</td>\n",
              "      <td>No</td>\n",
              "      <td>Agree</td>\n",
              "      <td>NaN</td>\n",
              "      <td>F20</td>\n",
              "      <td>NaN</td>\n",
              "      <td>NaN</td>\n",
              "      <td>NaN</td>\n",
              "      <td>NaN</td>\n",
              "      <td>NaN</td>\n",
              "      <td>NaN</td>\n",
              "      <td>NaN</td>\n",
              "      <td>NaN</td>\n",
              "      <td>NaN</td>\n",
              "      <td>NaN</td>\n",
              "      <td>NaN</td>\n",
              "      <td>NaN</td>\n",
              "      <td>NaN</td>\n",
              "    </tr>\n",
              "    <tr>\n",
              "      <th>7</th>\n",
              "      <td>2019-12-05 15:37:02</td>\n",
              "      <td>2019-12-05 15:39:16</td>\n",
              "      <td>Xinyi.Cui@longy.edu</td>\n",
              "      <td>Xinyi Cui</td>\n",
              "      <td>English (United States)‎</td>\n",
              "      <td>NaN</td>\n",
              "      <td>NaN</td>\n",
              "      <td>NaN</td>\n",
              "      <td>NaN</td>\n",
              "      <td>Strongly Agree</td>\n",
              "      <td>Strongly Agree</td>\n",
              "      <td>Strongly Agree</td>\n",
              "      <td>Strongly Agree</td>\n",
              "      <td>Strongly Agree</td>\n",
              "      <td>Strongly Agree</td>\n",
              "      <td>Strongly Agree</td>\n",
              "      <td>Strongly Agree</td>\n",
              "      <td>Agree</td>\n",
              "      <td>Strongly Agree</td>\n",
              "      <td>Agree</td>\n",
              "      <td>Dana Varga--Many paths to a career in singing</td>\n",
              "      <td>Learn more about future career options</td>\n",
              "      <td>No</td>\n",
              "      <td>Strongly Agree</td>\n",
              "      <td>NaN</td>\n",
              "      <td>F19</td>\n",
              "      <td>NaN</td>\n",
              "      <td>NaN</td>\n",
              "      <td>NaN</td>\n",
              "      <td>NaN</td>\n",
              "      <td>NaN</td>\n",
              "      <td>NaN</td>\n",
              "      <td>NaN</td>\n",
              "      <td>NaN</td>\n",
              "      <td>NaN</td>\n",
              "      <td>NaN</td>\n",
              "      <td>NaN</td>\n",
              "      <td>NaN</td>\n",
              "      <td>NaN</td>\n",
              "    </tr>\n",
              "    <tr>\n",
              "      <th>86</th>\n",
              "      <td>2020-06-02 10:45:22</td>\n",
              "      <td>2020-06-02 10:48:45</td>\n",
              "      <td>PeiChieh.Weng@longy.edu</td>\n",
              "      <td>Pei Chieh Weng</td>\n",
              "      <td>English (United States)‎</td>\n",
              "      <td>NaN</td>\n",
              "      <td>NaN</td>\n",
              "      <td>NaN</td>\n",
              "      <td>NaN</td>\n",
              "      <td>Strongly Agree</td>\n",
              "      <td>Strongly Agree</td>\n",
              "      <td>Strongly Agree</td>\n",
              "      <td>Neutral</td>\n",
              "      <td>Strongly Agree</td>\n",
              "      <td>Strongly Agree</td>\n",
              "      <td>Strongly Agree</td>\n",
              "      <td>Strongly Agree</td>\n",
              "      <td>Strongly Agree</td>\n",
              "      <td>Strongly Agree</td>\n",
              "      <td>Strongly Agree</td>\n",
              "      <td>Sarah Bob--The Power of Art, New Gallery Conce...</td>\n",
              "      <td>The way she presents</td>\n",
              "      <td>No</td>\n",
              "      <td>Strongly Agree</td>\n",
              "      <td>NaN</td>\n",
              "      <td>S20</td>\n",
              "      <td>no</td>\n",
              "      <td>NaN</td>\n",
              "      <td>Strongly Agree</td>\n",
              "      <td>Agree</td>\n",
              "      <td>Just the right amount</td>\n",
              "      <td>Neutral</td>\n",
              "      <td>NaN</td>\n",
              "      <td>NaN</td>\n",
              "      <td>NaN</td>\n",
              "      <td>NaN</td>\n",
              "      <td>NaN</td>\n",
              "      <td>NaN</td>\n",
              "      <td>NaN</td>\n",
              "    </tr>\n",
              "  </tbody>\n",
              "</table>\n",
              "</div>"
            ],
            "text/plain": [
              "             Start time  ... Recommended Speakers\n",
              "21  2019-12-05 16:06:20  ...                  NaN\n",
              "64  2019-12-13 13:01:20  ...                  NaN\n",
              "187 2020-12-14 11:33:03  ...                  NaN\n",
              "7   2019-12-05 15:37:02  ...                  NaN\n",
              "86  2020-06-02 10:45:22  ...                  NaN\n",
              "\n",
              "[5 rows x 39 columns]"
            ]
          },
          "metadata": {
            "tags": []
          },
          "execution_count": 11
        }
      ]
    },
    {
      "cell_type": "markdown",
      "metadata": {
        "id": "S_9Kdd9ZrDqL"
      },
      "source": [
        "### Some values have the same meaning but little difference, we will change that too"
      ]
    },
    {
      "cell_type": "code",
      "metadata": {
        "id": "gs7d_xeqrDqM"
      },
      "source": [
        "agree_values = [\n",
        " 'Strongly Disagree',\n",
        " #'Strongly disagree',\n",
        " 'Disagree',\n",
        " #'Maybe',\n",
        " 'Neutral',\n",
        " 'Agree',\n",
        " 'Strongly Agree',\n",
        " #'Strongly agree',\n",
        " #np.nan\n",
        "]\n",
        "\n",
        "agree_value_map = {\n",
        "    'Strongly disagree': 'Strongly Disagree',\n",
        "    'Maybe': 'Neutral',\n",
        "    'Strongly agree': 'Strongly Agree',\n",
        "    #np.nan: 'Unknown'\n",
        "}\n",
        "\n",
        "df.replace(agree_value_map, inplace=True)"
      ],
      "execution_count": 12,
      "outputs": []
    },
    {
      "cell_type": "markdown",
      "metadata": {
        "id": "VvNx3Jq9rDqM"
      },
      "source": [
        "## Main Dataframe are students who filled form in all four semesters"
      ]
    },
    {
      "cell_type": "code",
      "metadata": {
        "id": "65g6zukyrDqM"
      },
      "source": [
        "def in_all_semesters(value, column='Name'):\n",
        "    \"\"\"Check if a value e.g Name appears in all semester\"\"\"\n",
        "    sems = df[df[column]==value]['Semester'].unique()\n",
        "    return all([x in sems for x in df['Semester'].unique()])"
      ],
      "execution_count": 13,
      "outputs": []
    },
    {
      "cell_type": "code",
      "metadata": {
        "colab": {
          "base_uri": "https://localhost:8080/",
          "height": 0
        },
        "id": "-jYi5kaqrDqN",
        "outputId": "86999448-e94e-4f73-fee3-cbedee37a3c2"
      },
      "source": [
        "mask = df['Name'].apply(in_all_semesters)\n",
        "main_df = df[mask]\n",
        "main_df['Name'].unique()"
      ],
      "execution_count": 14,
      "outputs": [
        {
          "output_type": "execute_result",
          "data": {
            "text/plain": [
              "array(['Carlo Bunyi', 'Timothy Flores', 'Monica Rajan', 'Bahar Soyoz',\n",
              "       'David Thomas Mather', 'Yang, Yang', 'Samantha Connell',\n",
              "       'Erin Henke', 'Adam J Merrill', 'Sara Insuasty', 'Wang Qingyi',\n",
              "       'Paige Genevieve Burke', 'Ren Yingyu', 'Kendra Comstock'],\n",
              "      dtype=object)"
            ]
          },
          "metadata": {
            "tags": []
          },
          "execution_count": 14
        }
      ]
    },
    {
      "cell_type": "code",
      "metadata": {
        "colab": {
          "base_uri": "https://localhost:8080/",
          "height": 823
        },
        "id": "Bk5oUwcNrDqN",
        "outputId": "b3ec3cf2-932e-4cff-de7a-9377e99fec67"
      },
      "source": [
        "main_df[main_df['Name']=='Carlo Bunyi']"
      ],
      "execution_count": 15,
      "outputs": [
        {
          "output_type": "execute_result",
          "data": {
            "text/html": [
              "<div>\n",
              "<style scoped>\n",
              "    .dataframe tbody tr th:only-of-type {\n",
              "        vertical-align: middle;\n",
              "    }\n",
              "\n",
              "    .dataframe tbody tr th {\n",
              "        vertical-align: top;\n",
              "    }\n",
              "\n",
              "    .dataframe thead th {\n",
              "        text-align: right;\n",
              "    }\n",
              "</style>\n",
              "<table border=\"1\" class=\"dataframe\">\n",
              "  <thead>\n",
              "    <tr style=\"text-align: right;\">\n",
              "      <th></th>\n",
              "      <th>Start time</th>\n",
              "      <th>Completion time</th>\n",
              "      <th>Email</th>\n",
              "      <th>Name</th>\n",
              "      <th>Language</th>\n",
              "      <th>When did you begin pursuing your degree at Longy?</th>\n",
              "      <th>Which department are you in?</th>\n",
              "      <th>What degree are you currently pursuing?</th>\n",
              "      <th>I have received career coaching sessions at Longy</th>\n",
              "      <th>Through coaching, I discovered connections between my values and my music.</th>\n",
              "      <th>Coaching helped me identify my goals.</th>\n",
              "      <th>Coaching helped me determine next steps toward reaching my goals.</th>\n",
              "      <th>Coaching sessions helped me decide what classes to take at Longy.</th>\n",
              "      <th>Clarity for decision making</th>\n",
              "      <th>Accountability for my goals</th>\n",
              "      <th>Increased self-motivation</th>\n",
              "      <th>Awareness of my values</th>\n",
              "      <th>Support for personal growth</th>\n",
              "      <th>I would recommend individual coaching to current or prospective students.</th>\n",
              "      <th>The Multifaceted Career (TMC) Speaker Series helped me think about my own life and career options in a broader way.</th>\n",
              "      <th>My favorite TMC Speaker was...</th>\n",
              "      <th>What was it about this speaker that made him/her/them your favorite</th>\n",
              "      <th>Have you reached out to any of these speakers after their presentation?</th>\n",
              "      <th>I would recommend The Multifaceted Career (TMC) Series to current or perspective students.</th>\n",
              "      <th>In one or two sentences, would you be willing to summarize the impact that The Career Coaching Program has had on your musical training and overall development?</th>\n",
              "      <th>Semester</th>\n",
              "      <th>I received coaching online on zoom during the COVID pandemic.</th>\n",
              "      <th>Coaching was as effective on zoom as it was in person.</th>\n",
              "      <th>I will use the individual career coaching services at Longy after I graduate.</th>\n",
              "      <th>I am aware of the coaching program requirements for graduation.</th>\n",
              "      <th>Four individual coaching sessions per academic year seemed like</th>\n",
              "      <th>The Coaching Foundations Course (group coaching) laid an important foundation for the discussions in my individual coaching sessions.</th>\n",
              "      <th>I have completed a graduate degree at Longy and will be graduating on May 15, 2021.</th>\n",
              "      <th>The Artist Statement workshop helped me begin to align my career aspirations with my values.</th>\n",
              "      <th>The Coaching Foundations Course (5 sessions at the beginning of grad school) provided a framework for understanding myself and how coaching worked at Longy.</th>\n",
              "      <th>The Multifaceted Career Speaker Series helped me thinking more expansively about my own career possibilities.</th>\n",
              "      <th>Individual coaching provided a space to reflect on who I was becoming and what I wanted to do after Longy.</th>\n",
              "      <th>I plan to use the career coaching services after I graduate.</th>\n",
              "      <th>Recommended Speakers</th>\n",
              "    </tr>\n",
              "  </thead>\n",
              "  <tbody>\n",
              "    <tr>\n",
              "      <th>14</th>\n",
              "      <td>2019-12-05 15:42:47</td>\n",
              "      <td>2019-12-05 15:44:50</td>\n",
              "      <td>Carlo.Bunyi@longy.edu</td>\n",
              "      <td>Carlo Bunyi</td>\n",
              "      <td>English (United States)‎</td>\n",
              "      <td>NaN</td>\n",
              "      <td>NaN</td>\n",
              "      <td>NaN</td>\n",
              "      <td>NaN</td>\n",
              "      <td>Agree</td>\n",
              "      <td>Agree</td>\n",
              "      <td>Strongly Agree</td>\n",
              "      <td>Agree</td>\n",
              "      <td>Agree</td>\n",
              "      <td>Agree</td>\n",
              "      <td>Strongly Agree</td>\n",
              "      <td>Strongly Agree</td>\n",
              "      <td>NaN</td>\n",
              "      <td>Strongly Agree</td>\n",
              "      <td>Strongly Agree</td>\n",
              "      <td>Alejandro Rodriguez--Artists Striving to End P...</td>\n",
              "      <td>Strong involvement in the arts/ community</td>\n",
              "      <td>No</td>\n",
              "      <td>Strongly Agree</td>\n",
              "      <td>NaN</td>\n",
              "      <td>F19</td>\n",
              "      <td>NaN</td>\n",
              "      <td>NaN</td>\n",
              "      <td>NaN</td>\n",
              "      <td>NaN</td>\n",
              "      <td>NaN</td>\n",
              "      <td>NaN</td>\n",
              "      <td>NaN</td>\n",
              "      <td>NaN</td>\n",
              "      <td>NaN</td>\n",
              "      <td>NaN</td>\n",
              "      <td>NaN</td>\n",
              "      <td>NaN</td>\n",
              "      <td>NaN</td>\n",
              "    </tr>\n",
              "    <tr>\n",
              "      <th>56</th>\n",
              "      <td>2019-12-13 11:13:39</td>\n",
              "      <td>2019-12-13 11:14:45</td>\n",
              "      <td>Carlo.Bunyi@longy.edu</td>\n",
              "      <td>Carlo Bunyi</td>\n",
              "      <td>English (United States)‎</td>\n",
              "      <td>NaN</td>\n",
              "      <td>NaN</td>\n",
              "      <td>NaN</td>\n",
              "      <td>NaN</td>\n",
              "      <td>Agree</td>\n",
              "      <td>Agree</td>\n",
              "      <td>Strongly Agree</td>\n",
              "      <td>Agree</td>\n",
              "      <td>Agree</td>\n",
              "      <td>Agree</td>\n",
              "      <td>Agree</td>\n",
              "      <td>Agree</td>\n",
              "      <td>Agree</td>\n",
              "      <td>Strongly Agree</td>\n",
              "      <td>Agree</td>\n",
              "      <td>Alejandro Rodriguez--Artists Striving to End P...</td>\n",
              "      <td>Community involvement</td>\n",
              "      <td>Yes</td>\n",
              "      <td>Strongly Agree</td>\n",
              "      <td>NaN</td>\n",
              "      <td>F19</td>\n",
              "      <td>NaN</td>\n",
              "      <td>NaN</td>\n",
              "      <td>NaN</td>\n",
              "      <td>NaN</td>\n",
              "      <td>NaN</td>\n",
              "      <td>NaN</td>\n",
              "      <td>NaN</td>\n",
              "      <td>NaN</td>\n",
              "      <td>NaN</td>\n",
              "      <td>NaN</td>\n",
              "      <td>NaN</td>\n",
              "      <td>NaN</td>\n",
              "      <td>NaN</td>\n",
              "    </tr>\n",
              "    <tr>\n",
              "      <th>110</th>\n",
              "      <td>2020-06-02 15:34:41</td>\n",
              "      <td>2020-06-02 15:36:24</td>\n",
              "      <td>Carlo.Bunyi@longy.edu</td>\n",
              "      <td>Carlo Bunyi</td>\n",
              "      <td>English (United States)‎</td>\n",
              "      <td>NaN</td>\n",
              "      <td>NaN</td>\n",
              "      <td>NaN</td>\n",
              "      <td>NaN</td>\n",
              "      <td>Agree</td>\n",
              "      <td>Strongly Agree</td>\n",
              "      <td>Agree</td>\n",
              "      <td>Strongly Agree</td>\n",
              "      <td>Strongly Agree</td>\n",
              "      <td>Strongly Agree</td>\n",
              "      <td>Strongly Agree</td>\n",
              "      <td>Strongly Agree</td>\n",
              "      <td>Strongly Agree</td>\n",
              "      <td>Strongly Agree</td>\n",
              "      <td>Neutral</td>\n",
              "      <td>Lecolion Washington--Community Music Center of...</td>\n",
              "      <td>NaN</td>\n",
              "      <td>No</td>\n",
              "      <td>Agree</td>\n",
              "      <td>NaN</td>\n",
              "      <td>S20</td>\n",
              "      <td>yes</td>\n",
              "      <td>Strongly Agree</td>\n",
              "      <td>Strongly Agree</td>\n",
              "      <td>Agree</td>\n",
              "      <td>Just the right amount</td>\n",
              "      <td>Neutral</td>\n",
              "      <td>NaN</td>\n",
              "      <td>NaN</td>\n",
              "      <td>NaN</td>\n",
              "      <td>NaN</td>\n",
              "      <td>NaN</td>\n",
              "      <td>NaN</td>\n",
              "      <td>NaN</td>\n",
              "    </tr>\n",
              "    <tr>\n",
              "      <th>129</th>\n",
              "      <td>2020-12-11 12:58:25</td>\n",
              "      <td>2020-12-11 13:01:06</td>\n",
              "      <td>Carlo.Bunyi@longy.edu</td>\n",
              "      <td>Carlo Bunyi</td>\n",
              "      <td>English (United States)‎</td>\n",
              "      <td>Fall Semester 2019</td>\n",
              "      <td>Vocal</td>\n",
              "      <td>MM</td>\n",
              "      <td>Yes</td>\n",
              "      <td>Strongly Agree</td>\n",
              "      <td>Strongly Agree</td>\n",
              "      <td>Agree</td>\n",
              "      <td>Agree</td>\n",
              "      <td>Agree</td>\n",
              "      <td>Strongly Agree</td>\n",
              "      <td>Strongly Agree</td>\n",
              "      <td>Strongly Agree</td>\n",
              "      <td>Strongly Agree</td>\n",
              "      <td>Strongly Agree</td>\n",
              "      <td>Agree</td>\n",
              "      <td>Michelle Trainor--From to Longy to Lyric Opera</td>\n",
              "      <td>Similar major</td>\n",
              "      <td>No</td>\n",
              "      <td>Agree</td>\n",
              "      <td>It has helped me branch out to consider differ...</td>\n",
              "      <td>F20</td>\n",
              "      <td>NaN</td>\n",
              "      <td>NaN</td>\n",
              "      <td>NaN</td>\n",
              "      <td>NaN</td>\n",
              "      <td>NaN</td>\n",
              "      <td>NaN</td>\n",
              "      <td>NaN</td>\n",
              "      <td>NaN</td>\n",
              "      <td>NaN</td>\n",
              "      <td>NaN</td>\n",
              "      <td>NaN</td>\n",
              "      <td>NaN</td>\n",
              "      <td>Arthur Espiritu</td>\n",
              "    </tr>\n",
              "    <tr>\n",
              "      <th>226</th>\n",
              "      <td>2021-05-13 13:53:19</td>\n",
              "      <td>2021-05-13 13:57:23</td>\n",
              "      <td>Carlo.Bunyi@longy.edu</td>\n",
              "      <td>Carlo Bunyi</td>\n",
              "      <td>English (United States)‎</td>\n",
              "      <td>Fall Semester 2019</td>\n",
              "      <td>Vocal</td>\n",
              "      <td>MM</td>\n",
              "      <td>Yes</td>\n",
              "      <td>Strongly Agree</td>\n",
              "      <td>Agree</td>\n",
              "      <td>Strongly Agree</td>\n",
              "      <td>Agree</td>\n",
              "      <td>Agree</td>\n",
              "      <td>Strongly Agree</td>\n",
              "      <td>Strongly Agree</td>\n",
              "      <td>Strongly Agree</td>\n",
              "      <td>Strongly Agree</td>\n",
              "      <td>Strongly Agree</td>\n",
              "      <td>Agree</td>\n",
              "      <td>Gabrielle Molina--Bridging Cultures and Buildi...</td>\n",
              "      <td>Cultural/heritage connection</td>\n",
              "      <td>Yes</td>\n",
              "      <td>Agree</td>\n",
              "      <td>The Career Coaching program has improved my fo...</td>\n",
              "      <td>S21</td>\n",
              "      <td>NaN</td>\n",
              "      <td>NaN</td>\n",
              "      <td>NaN</td>\n",
              "      <td>NaN</td>\n",
              "      <td>NaN</td>\n",
              "      <td>NaN</td>\n",
              "      <td>yes</td>\n",
              "      <td>Strongly Agree</td>\n",
              "      <td>Agree</td>\n",
              "      <td>Agree</td>\n",
              "      <td>Strongly Agree</td>\n",
              "      <td>Strongly Agree</td>\n",
              "      <td>Arthur Espiritu</td>\n",
              "    </tr>\n",
              "  </tbody>\n",
              "</table>\n",
              "</div>"
            ],
            "text/plain": [
              "             Start time  ... Recommended Speakers\n",
              "14  2019-12-05 15:42:47  ...                  NaN\n",
              "56  2019-12-13 11:13:39  ...                  NaN\n",
              "110 2020-06-02 15:34:41  ...                  NaN\n",
              "129 2020-12-11 12:58:25  ...      Arthur Espiritu\n",
              "226 2021-05-13 13:53:19  ...      Arthur Espiritu\n",
              "\n",
              "[5 rows x 39 columns]"
            ]
          },
          "metadata": {
            "tags": []
          },
          "execution_count": 15
        }
      ]
    },
    {
      "cell_type": "markdown",
      "metadata": {
        "id": "WPRCR0BirDqO"
      },
      "source": [
        "## Visualization functions\n",
        "For the categorical columns where students agree and disagree, we can plot that on a bar chart"
      ]
    },
    {
      "cell_type": "code",
      "metadata": {
        "id": "dJWTWnsQrDqO"
      },
      "source": [
        "def plot_bar(df, column, percent=False, max=7, dropna=True):\n",
        "    gb = df.groupby(['Semester', column]).count()['Name']\n",
        "    d = {\n",
        "        'F19': [],\n",
        "        'S20': [],\n",
        "        'F20': [],\n",
        "        'S21': [],\n",
        "    }\n",
        "    sems = ['F19', 'F20', 'S20', 'S21']\n",
        "    ind = np.arange(len(agree_values))\n",
        "    width = .2\n",
        "    plt.figure(figsize=(14, 6))\n",
        "    plt.title(column)\n",
        "    if percent:\n",
        "        plt.ylabel('Percent')\n",
        "    else:\n",
        "        plt.ylabel('Count')\n",
        "    plt.xticks(ind+width*1.5, agree_values)\n",
        "    \n",
        "    for i,key in enumerate(sems):\n",
        "        height = [gb[key].get(x,0) for x in agree_values]\n",
        "        if percent:\n",
        "            height = np.divide(height, sum(height))\n",
        "        plt.bar(ind+width*i, height, width)\n",
        "    plt.legend(sems)"
      ],
      "execution_count": 16,
      "outputs": []
    },
    {
      "cell_type": "code",
      "metadata": {
        "colab": {
          "base_uri": "https://localhost:8080/",
          "height": 365
        },
        "id": "gcmiCpj5rDqO",
        "outputId": "8259c565-4b02-422e-b81c-b773d569262c"
      },
      "source": [
        "# This can be changed to df or main_df\n",
        "# Columns can easy be changed too\n",
        "col = cat_cols['agree'][3]\n",
        "plot_bar(df,col)"
      ],
      "execution_count": 20,
      "outputs": [
        {
          "output_type": "display_data",
          "data": {
            "image/png": "[encoded data removed]",
            "text/plain": [
              "<Figure size 1008x432 with 1 Axes>"
            ]
          },
          "metadata": {
            "tags": [],
            "needs_background": "light"
          }
        }
      ]
    },
    {
      "cell_type": "markdown",
      "metadata": {
        "id": "w4MN-FU_rDqQ"
      },
      "source": [
        "By changing things arounf ,someone can gain intuition and lood deeper. For example,there seems to be improvement in `Support for personal growth` over the semesters. Also, there are no `Strongly Disagree` in 2020 and 2021,this might be because `Strongly Disagree` was not included in the survey at those period."
      ]
    },
    {
      "cell_type": "markdown",
      "metadata": {
        "id": "ezYLnb4prDqQ"
      },
      "source": [
        "## Coaching foundation\n",
        "Different questions were asked each day and would need to be left seperately. The visualization is done pie chart"
      ]
    },
    {
      "cell_type": "code",
      "metadata": {
        "id": "MNWtSP3IrDqR"
      },
      "source": [
        "day = pd.read_excel(data_dir /'DAY 1_ Coaching Foundations Course(1-247).xlsx')"
      ],
      "execution_count": 23,
      "outputs": []
    },
    {
      "cell_type": "code",
      "metadata": {
        "colab": {
          "base_uri": "https://localhost:8080/",
          "height": 0
        },
        "id": "rwZO8zfvrDqR",
        "outputId": "ebb2ca77-ce0c-4692-82c1-c972f315e519"
      },
      "source": [
        "columns=day.columns\n",
        "columns"
      ],
      "execution_count": 25,
      "outputs": [
        {
          "output_type": "execute_result",
          "data": {
            "text/plain": [
              "Index(['ID', 'Start time', 'Completion time', 'Email', 'Name',\n",
              "       'What is your email address?',\n",
              "       'Who were your coaching staff facilitators?',\n",
              "       'The partnership agreement created today, makes me feel safe to explore and be vulnerable with this group of people.',\n",
              "       'The fulfillment wheel activity provided an insightful view into where I am right now in terms of fulfillment and life satisfaction.'],\n",
              "      dtype='object')"
            ]
          },
          "metadata": {
            "tags": []
          },
          "execution_count": 25
        }
      ]
    },
    {
      "cell_type": "code",
      "metadata": {
        "colab": {
          "base_uri": "https://localhost:8080/",
          "height": 466
        },
        "id": "C3e0VV9KrDqR",
        "outputId": "a2e036d1-8993-4c14-962e-7122a8c06509"
      },
      "source": [
        "col= 'Who were your coaching staff facilitators?'\n",
        "counts= day[col].value_counts()\n",
        "plt.figure(figsize=(8,8))\n",
        "plt.pie(counts.values,labels=counts.index)\n",
        "plt.show()"
      ],
      "execution_count": 27,
      "outputs": [
        {
          "output_type": "display_data",
          "data": {
            "image/png": "[encoded data removed]",
            "text/plain": [
              "<Figure size 576x576 with 1 Axes>"
            ]
          },
          "metadata": {
            "tags": []
          }
        }
      ]
    },
    {
      "cell_type": "markdown",
      "metadata": {
        "id": "BQqQFnLSyXxE"
      },
      "source": [
        "# Summary\n",
        "I've found a way to combine the days, and that's the purpose of this notebook. I won't be doing more analysis until I get more time and/or dataset. Time was well utilized in cleaning, wrangling, and merging the datasets, as I had to go through each columns to find pattern and anomalities. This stage is very important to perform good analysis, and also takes time.\n",
        "\n",
        "I hope you noticed in the last notebook that you could edit it easily to visualize any column in line `col = ...` before plots, and not just the 2 I plot. If not, I could make changes to the note and plot as many columns as possible.\n",
        "\n",
        "The process for merging the days together goes thus:\n",
        "* Insert Semester\n",
        "* Merge `What is your email address?` with `Email`. Almost all the `Email` are `.longy.edu` and `anonymous`. The anonymous provide their mail in `What is your email address?`\n",
        "* Drop row duplicates on Email, Name, and Semester. I don't understand how they happened. e.g **`day1[day1['Email']=='Chengxuan.Li@longy.edu']` where Li Chengxuan filled 40 times on 2020-08-25. Maybe, you should look into why.**\n",
        "* drop Start time, Completion time, ID.\n",
        "* Rename each column by prepending day:\n",
        "* Merge the data\n",
        "\n",
        "I hope this shows that we're capable to handle your project. This is just the tip of the iceberg, but getting value from the data would take time. Thanks."
      ]
    },
    {
      "cell_type": "markdown",
      "metadata": {
        "id": "wjWa-OvvyhNi"
      },
      "source": [
        "## Task to do include \n",
        "* Verify email and name and make sure it's clean. E.g `vanessa.moya@longy.edu (I think?)` should be corrected.\n",
        "* Analyse it together with impact assessment\n",
        "* Apply NLP on some columns\n",
        "* and lot more which would be revealed as more analysis is done"
      ]
    },
    {
      "cell_type": "code",
      "metadata": {
        "id": "xv5ybb6JyiNU"
      },
      "source": [
        "# Load data\n",
        "day1 = pd.read_excel(data_dir / 'DAY 1_ Coaching Foundations Course(1-247).xlsx')\n",
        "day2 = pd.read_excel(data_dir / 'Day 2_ Coaching Foundations Course(1-232) (1).xlsx')\n",
        "day3 = pd.read_excel(data_dir / 'Day 3_ Coaching Foundations Course(1-213).xlsx')\n",
        "day4 = pd.read_excel(data_dir / 'Day 3_ Coaching Foundations Course(1-213).xlsx')\n",
        "day5 = pd.read_excel(data_dir / 'Day 5_ Coaching Foundations Course(1-228).xlsx')\n",
        "days = [day1, day2, day3, day4, day5]"
      ],
      "execution_count": 28,
      "outputs": []
    },
    {
      "cell_type": "code",
      "metadata": {
        "id": "lU1m1agmyrNl"
      },
      "source": [
        "# Add column Semester\n",
        "def add_semester(timestamp, raise_error=True):\n",
        "    year = timestamp.year\n",
        "    month = timestamp.month\n",
        "    if year==2019 and month==9:\n",
        "        return 'F19'\n",
        "    elif year==2020 and month==1:\n",
        "        return 'S20'\n",
        "    elif year==2020 and month in (8,9):\n",
        "        return 'F20'\n",
        "    elif year==2021 and month in (1,2):\n",
        "        return 'S21'\n",
        "    elif year==2021 and month==6:\n",
        "        return 'F21'\n",
        "    elif raise_error:\n",
        "        raise ValueError(f\"{time} is unknown.\")\n",
        "        \n",
        "for d in days:\n",
        "    d.insert(5, 'Semester', d['Start time'].apply(add_semester))"
      ],
      "execution_count": 29,
      "outputs": []
    },
    {
      "cell_type": "code",
      "metadata": {
        "id": "UDPxkvOQyuVu"
      },
      "source": [
        "# Merge `What is your email address?` with `Email`\n",
        "for d in days:\n",
        "    d['Email'].where(d['Email']!='anonymous', d['What is your email address?'], inplace=True)"
      ],
      "execution_count": 30,
      "outputs": []
    },
    {
      "cell_type": "code",
      "metadata": {
        "id": "J_N0kYEVyye3"
      },
      "source": [
        "# Drop row duplicates\n",
        "for d in days:\n",
        "    d.drop_duplicates(['Email', 'Name', 'Semester'], inplace=True)"
      ],
      "execution_count": 31,
      "outputs": []
    },
    {
      "cell_type": "code",
      "metadata": {
        "id": "bqKFabHey1dD"
      },
      "source": [
        "# Drop columns\n",
        "for d in days:\n",
        "    d.drop(['ID', 'Start time', 'Completion time', 'What is your email address?'], axis=1, inplace=True)"
      ],
      "execution_count": 32,
      "outputs": []
    },
    {
      "cell_type": "code",
      "metadata": {
        "id": "fRcPFFfFy6Nr"
      },
      "source": [
        "# Rename some columns to identify day\n",
        "for i,d in enumerate(days):\n",
        "    col_map = {x: f\"{i+1}: {x}\" for x in d.columns if x not in ['Email', 'Name', 'Semester']}\n",
        "    d.rename(columns=col_map, inplace=True)"
      ],
      "execution_count": 33,
      "outputs": []
    },
    {
      "cell_type": "code",
      "metadata": {
        "id": "U0w0pvmDy82o"
      },
      "source": [
        "# Combine the data\n",
        "df = days[0].copy()\n",
        "for d in days[1:]:\n",
        "    df = df.merge(d, on=['Email', 'Name', 'Semester'], how='outer')"
      ],
      "execution_count": 34,
      "outputs": []
    },
    {
      "cell_type": "code",
      "metadata": {
        "colab": {
          "base_uri": "https://localhost:8080/",
          "height": 651
        },
        "id": "F9UiB4wOy_v_",
        "outputId": "9d60e7b3-ab36-45dd-89da-e158dabaf1f0"
      },
      "source": [
        "print(f'Rows: {df.shape[0]}; Columns: {df.shape[1]}')\n",
        "df.head()"
      ],
      "execution_count": 35,
      "outputs": [
        {
          "output_type": "stream",
          "text": [
            "Rows: 322; Columns: 15\n"
          ],
          "name": "stdout"
        },
        {
          "output_type": "execute_result",
          "data": {
            "text/html": [
              "<div>\n",
              "<style scoped>\n",
              "    .dataframe tbody tr th:only-of-type {\n",
              "        vertical-align: middle;\n",
              "    }\n",
              "\n",
              "    .dataframe tbody tr th {\n",
              "        vertical-align: top;\n",
              "    }\n",
              "\n",
              "    .dataframe thead th {\n",
              "        text-align: right;\n",
              "    }\n",
              "</style>\n",
              "<table border=\"1\" class=\"dataframe\">\n",
              "  <thead>\n",
              "    <tr style=\"text-align: right;\">\n",
              "      <th></th>\n",
              "      <th>Email</th>\n",
              "      <th>Name</th>\n",
              "      <th>Semester</th>\n",
              "      <th>1: Who were your coaching staff facilitators?</th>\n",
              "      <th>1: The partnership agreement created today, makes me feel safe to explore and be vulnerable with this group of people.</th>\n",
              "      <th>1: The fulfillment wheel activity provided an insightful view into where I am right now in terms of fulfillment and life satisfaction.</th>\n",
              "      <th>2: How important is it to you that your life's work is in harmony with your personal values?</th>\n",
              "      <th>2: How helpful was the fulfillment wheel and order of importance activity in clarifying things that are most important to you right now?</th>\n",
              "      <th>3: How helpful was the word association activity in helping you identify your lens on different topics and seeing how you might shift your lens?</th>\n",
              "      <th>3: How helpful was the inner team car activity in discovering different aspects of your self, how you show up in the world, and the possibility of personal choices?</th>\n",
              "      <th>4: How helpful was the word association activity in helping you identify your lens on different topics and seeing how you might shift your lens?</th>\n",
              "      <th>4: How helpful was the inner team car activity in discovering different aspects of your self, how you show up in the world, and the possibility of personal choices?</th>\n",
              "      <th>5: How likely are you to think about your Champion in your day to day life?</th>\n",
              "      <th>5: How helpful were the Gremlin and Champion activities?</th>\n",
              "      <th>5: What was the most impactful activity in the Coaching Foundations Course for you?</th>\n",
              "    </tr>\n",
              "  </thead>\n",
              "  <tbody>\n",
              "    <tr>\n",
              "      <th>0</th>\n",
              "      <td>Takaaki.Matsumoto@longy.edu</td>\n",
              "      <td>Matsumoto Takaaki</td>\n",
              "      <td>F19</td>\n",
              "      <td>NaN</td>\n",
              "      <td>Agree;</td>\n",
              "      <td>Agree</td>\n",
              "      <td>Extremely important</td>\n",
              "      <td>NaN</td>\n",
              "      <td>NaN</td>\n",
              "      <td>NaN</td>\n",
              "      <td>NaN</td>\n",
              "      <td>NaN</td>\n",
              "      <td>Very likely</td>\n",
              "      <td>Very helpful</td>\n",
              "      <td>NaN</td>\n",
              "    </tr>\n",
              "    <tr>\n",
              "      <th>1</th>\n",
              "      <td>Monica.Rajan@longy.edu</td>\n",
              "      <td>Monica Rajan</td>\n",
              "      <td>F19</td>\n",
              "      <td>NaN</td>\n",
              "      <td>Agree;</td>\n",
              "      <td>Agree</td>\n",
              "      <td>Extremely important</td>\n",
              "      <td>NaN</td>\n",
              "      <td>Very helpful</td>\n",
              "      <td>Very helpful</td>\n",
              "      <td>Very helpful</td>\n",
              "      <td>Very helpful</td>\n",
              "      <td>Very likely</td>\n",
              "      <td>Very helpful</td>\n",
              "      <td>NaN</td>\n",
              "    </tr>\n",
              "    <tr>\n",
              "      <th>2</th>\n",
              "      <td>Katie.Pyne@longy.edu</td>\n",
              "      <td>Katelyn (Katie) Pyne</td>\n",
              "      <td>F19</td>\n",
              "      <td>NaN</td>\n",
              "      <td>Agree;</td>\n",
              "      <td>Agree</td>\n",
              "      <td>Extremely important</td>\n",
              "      <td>NaN</td>\n",
              "      <td>Very helpful</td>\n",
              "      <td>Very helpful</td>\n",
              "      <td>Very helpful</td>\n",
              "      <td>Very helpful</td>\n",
              "      <td>NaN</td>\n",
              "      <td>NaN</td>\n",
              "      <td>NaN</td>\n",
              "    </tr>\n",
              "    <tr>\n",
              "      <th>3</th>\n",
              "      <td>Michael.Clark@longy.edu</td>\n",
              "      <td>Paul Michael (Michael) Clark</td>\n",
              "      <td>F19</td>\n",
              "      <td>NaN</td>\n",
              "      <td>Agree;</td>\n",
              "      <td>Agree</td>\n",
              "      <td>Extremely important</td>\n",
              "      <td>NaN</td>\n",
              "      <td>NaN</td>\n",
              "      <td>NaN</td>\n",
              "      <td>NaN</td>\n",
              "      <td>NaN</td>\n",
              "      <td>NaN</td>\n",
              "      <td>NaN</td>\n",
              "      <td>NaN</td>\n",
              "    </tr>\n",
              "    <tr>\n",
              "      <th>4</th>\n",
              "      <td>Tim.Flores@longy.edu</td>\n",
              "      <td>Timothy (Tim) Flores</td>\n",
              "      <td>F19</td>\n",
              "      <td>NaN</td>\n",
              "      <td>Agree;</td>\n",
              "      <td>Neutral</td>\n",
              "      <td>Extremely important</td>\n",
              "      <td>NaN</td>\n",
              "      <td>Very helpful</td>\n",
              "      <td>Very helpful</td>\n",
              "      <td>Very helpful</td>\n",
              "      <td>Very helpful</td>\n",
              "      <td>NaN</td>\n",
              "      <td>NaN</td>\n",
              "      <td>NaN</td>\n",
              "    </tr>\n",
              "  </tbody>\n",
              "</table>\n",
              "</div>"
            ],
            "text/plain": [
              "                         Email  ... 5: What was the most impactful activity in the Coaching Foundations Course for you?\n",
              "0  Takaaki.Matsumoto@longy.edu  ...                                                NaN                                 \n",
              "1       Monica.Rajan@longy.edu  ...                                                NaN                                 \n",
              "2         Katie.Pyne@longy.edu  ...                                                NaN                                 \n",
              "3      Michael.Clark@longy.edu  ...                                                NaN                                 \n",
              "4         Tim.Flores@longy.edu  ...                                                NaN                                 \n",
              "\n",
              "[5 rows x 15 columns]"
            ]
          },
          "metadata": {
            "tags": []
          },
          "execution_count": 35
        }
      ]
    }
  ]
}